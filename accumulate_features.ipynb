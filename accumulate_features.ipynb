{
 "cells": [
  {
   "cell_type": "code",
   "execution_count": 1,
   "metadata": {},
   "outputs": [
    {
     "name": "stdout",
     "output_type": "stream",
     "text": [
      "Requirement already satisfied: tokenizers in /usr/local/lib/python3.10/dist-packages (0.20.0)\n",
      "Requirement already satisfied: huggingface-hub<1.0,>=0.16.4 in /usr/local/lib/python3.10/dist-packages (from tokenizers) (0.24.6)\n",
      "Requirement already satisfied: filelock in /usr/local/lib/python3.10/dist-packages (from huggingface-hub<1.0,>=0.16.4->tokenizers) (3.9.0)\n",
      "Requirement already satisfied: fsspec>=2023.5.0 in /usr/local/lib/python3.10/dist-packages (from huggingface-hub<1.0,>=0.16.4->tokenizers) (2024.9.0)\n",
      "Requirement already satisfied: packaging>=20.9 in /usr/local/lib/python3.10/dist-packages (from huggingface-hub<1.0,>=0.16.4->tokenizers) (23.2)\n",
      "Requirement already satisfied: pyyaml>=5.1 in /usr/local/lib/python3.10/dist-packages (from huggingface-hub<1.0,>=0.16.4->tokenizers) (6.0.1)\n",
      "Requirement already satisfied: requests in /usr/local/lib/python3.10/dist-packages (from huggingface-hub<1.0,>=0.16.4->tokenizers) (2.31.0)\n",
      "Requirement already satisfied: tqdm>=4.42.1 in /usr/local/lib/python3.10/dist-packages (from huggingface-hub<1.0,>=0.16.4->tokenizers) (4.66.5)\n",
      "Requirement already satisfied: typing-extensions>=3.7.4.3 in /usr/local/lib/python3.10/dist-packages (from huggingface-hub<1.0,>=0.16.4->tokenizers) (4.4.0)\n",
      "Requirement already satisfied: charset-normalizer<4,>=2 in /usr/local/lib/python3.10/dist-packages (from requests->huggingface-hub<1.0,>=0.16.4->tokenizers) (2.1.1)\n",
      "Requirement already satisfied: idna<4,>=2.5 in /usr/local/lib/python3.10/dist-packages (from requests->huggingface-hub<1.0,>=0.16.4->tokenizers) (3.4)\n",
      "Requirement already satisfied: urllib3<3,>=1.21.1 in /usr/local/lib/python3.10/dist-packages (from requests->huggingface-hub<1.0,>=0.16.4->tokenizers) (1.26.13)\n",
      "Requirement already satisfied: certifi>=2017.4.17 in /usr/local/lib/python3.10/dist-packages (from requests->huggingface-hub<1.0,>=0.16.4->tokenizers) (2022.12.7)\n"
     ]
    },
    {
     "name": "stdout",
     "output_type": "stream",
     "text": [
      "\u001b[33mWARNING: Running pip as the 'root' user can result in broken permissions and conflicting behaviour with the system package manager. It is recommended to use a virtual environment instead: https://pip.pypa.io/warnings/venv\u001b[0m\u001b[33m\n",
      "\u001b[0m\n",
      "\u001b[1m[\u001b[0m\u001b[34;49mnotice\u001b[0m\u001b[1;39;49m]\u001b[0m\u001b[39;49m A new release of pip is available: \u001b[0m\u001b[31;49m23.3.1\u001b[0m\u001b[39;49m -> \u001b[0m\u001b[32;49m24.2\u001b[0m\n",
      "\u001b[1m[\u001b[0m\u001b[34;49mnotice\u001b[0m\u001b[1;39;49m]\u001b[0m\u001b[39;49m To update, run: \u001b[0m\u001b[32;49mpython -m pip install --upgrade pip\u001b[0m\n"
     ]
    }
   ],
   "source": [
    "if not 'RAN_PIP' in locals():\n",
    "    !pip install tokenizers\n",
    "    RAN_PIP = True"
   ]
  },
  {
   "cell_type": "code",
   "execution_count": 2,
   "metadata": {},
   "outputs": [],
   "source": [
    "import torch\n",
    "import tokenizers\n",
    "import llm\n",
    "import os\n",
    "import sae\n",
    "import tqdm\n",
    "import json\n",
    "\n",
    "\n",
    "\n",
    "# expt_name = 'e2e_sae_1'\n",
    "expt_name = 'vanilla_split_llm_sae'\n",
    "expt_dir = f'experiments/{expt_name}'\n",
    "\n",
    "def loadconfig():\n",
    "    global config\n",
    "    config = json.load(open(f\"experiments/{expt_name}/config.json\"))\n",
    "    for k,v in config.items():\n",
    "        globals()[k] = v\n",
    "\n",
    "loadconfig()\n",
    "\n"
   ]
  },
  {
   "cell_type": "code",
   "execution_count": 3,
   "metadata": {},
   "outputs": [],
   "source": [
    "data = torch.load('tiny-stories-train.pt', map_location='cuda')\n",
    "n = int(0.9*len(data))\n",
    "\n",
    "train_data = data[:n]\n",
    "val_data = data[n:]\n"
   ]
  },
  {
   "cell_type": "code",
   "execution_count": 4,
   "metadata": {},
   "outputs": [],
   "source": [
    "def get_batch_by_index(split, ix):\n",
    "    data = train_data if split == 'train' else val_data\n",
    "    x = torch.stack([data[i:i+T] for i in ix]) # random sequences\n",
    "    y = torch.stack([data[i+1:i+T+1] for i in ix]) # next character for each random sequence\n",
    "\n",
    "    return x, y"
   ]
  },
  {
   "cell_type": "code",
   "execution_count": 5,
   "metadata": {},
   "outputs": [
    {
     "name": "stdout",
     "output_type": "stream",
     "text": [
      "Loading separate LLM and SAE\n"
     ]
    },
    {
     "data": {
      "text/plain": [
       "<All keys matched successfully>"
      ]
     },
     "execution_count": 5,
     "metadata": {},
     "output_type": "execute_result"
    }
   ],
   "source": [
    "import random\n",
    "llm_args = ['B', 'T', 'C', 'n_heads', 'H', 'n_layers', 'vocab_size']\n",
    "llm_kwargs = {k: globals()[k] for k in llm_args}\n",
    "\n",
    "autoencoder = sae.TopKSparseAutoencoder(C, sae_size, sae_topk)\n",
    "if config.get(\"separate_llm\", False):\n",
    "    print(\"Loading separate LLM and SAE\")\n",
    "    gpt = llm.GPT(**llm_kwargs)\n",
    "    autoencoder.load_state_dict(torch.load(f'{expt_dir}/sae.pt'))\n",
    "    def get_latents(tokens):\n",
    "        llm_out = gpt.forward(tokens, targets=None, stop_at_layer=sae_location)\n",
    "        residuals = llm_out['residuals']\n",
    "        sae_out = autoencoder(residuals, return_r2=True)\n",
    "        if random.random() < 0.01:\n",
    "            print(\"r2\", sae_out['mean_r2'])\n",
    "        sparse_idxs = sae_out['topk_idxs']\n",
    "        sparse_values = sae_out['topk_values']\n",
    "        return sparse_idxs, sparse_values\n",
    "\n",
    "\n",
    "\n",
    "else:\n",
    "    print(\"Loading e2e LLM and SAE\")\n",
    "    gpt = llm.BottleNeckGPT(\n",
    "        bottleneck_model=autoencoder,\n",
    "        bottleneck_location=sae_location,\n",
    "        **llm_kwargs\n",
    "    )\n",
    "    def get_latents(tokens):\n",
    "        ret = gpt(tokens, targets=None, bottleneck_early_stop=True)\n",
    "        sparse_idxs = ret['bm_results']['topk_idxs'].to(torch.int16)\n",
    "        sparse_values = ret['bm_results']['topk_values'].to(torch.float16)\n",
    "        return sparse_idxs, sparse_values\n",
    "\n",
    "gpt.load_state_dict(torch.load(f'{expt_dir}/gpt.pt'))"
   ]
  },
  {
   "cell_type": "code",
   "execution_count": 6,
   "metadata": {},
   "outputs": [
    {
     "data": {
      "text/plain": [
       "(tensor([[[12803, 14861,  7965,  ..., 12070, 10607, 13137],\n",
       "          [12803, 14861,  7965,  ..., 12070,  9251, 10855],\n",
       "          [12803, 14861,  7965,  ...,  5734, 10855, 10752],\n",
       "          ...,\n",
       "          [12803,  2048,  7965,  ...,  5131,  8777,  7189],\n",
       "          [12803,  2048,  7965,  ...,  3655,  3620, 12070],\n",
       "          [12803,  2048,  7965,  ...,  3090,  9700,  8689]],\n",
       " \n",
       "         [[12803, 14861,  7965,  ...,  8750, 13213, 10613],\n",
       "          [12803, 14861,  7965,  ...,  5315, 13677, 14508],\n",
       "          [12803, 14861,  7965,  ...,  2336, 12013, 12808],\n",
       "          ...,\n",
       "          [12803,  2048,  7965,  ..., 10980, 10795, 11331],\n",
       "          [12803,  2048,  7965,  ...,  9793, 12242,  8454],\n",
       "          [12803,  2048,  7965,  ...,  8714, 16085, 15934]],\n",
       " \n",
       "         [[12803, 14861,  7965,  ...,  5206, 14217, 11598],\n",
       "          [12803, 14861,  7965,  ..., 12288,  4188, 10072],\n",
       "          [12803, 14861,  7965,  ...,  2583, 13887,  5734],\n",
       "          ...,\n",
       "          [12803,  2048,  7965,  ...,  6672, 12290, 15411],\n",
       "          [12803,  2048,  7965,  ...,  7596, 14338,  9316],\n",
       "          [12803,  2048,  7965,  ...,  8787,  1883,  8694]],\n",
       " \n",
       "         ...,\n",
       " \n",
       "         [[12803, 14861,  7965,  ..., 13137,  2488,  6428],\n",
       "          [12803, 14861,  7965,  ...,  3099, 11120,  3968],\n",
       "          [12803, 14861,  7965,  ..., 10748, 16134,  8980],\n",
       "          ...,\n",
       "          [12803,  2048,  7965,  ..., 15297,  6275,  2531],\n",
       "          [12803,  2048,  7965,  ...,  6275, 14296,  5628],\n",
       "          [12803,  2048,  7965,  ...,  3670,  1998,  9316]],\n",
       " \n",
       "         [[12803, 14861,  7965,  ...,  7559,  3023, 10072],\n",
       "          [12803, 14861,  7965,  ..., 10289,  2363,  9251],\n",
       "          [12803, 14861,  7965,  ...,  5718,   777,  2360],\n",
       "          ...,\n",
       "          [12803,  2048,  7965,  ...,  5201,  8725, 10279],\n",
       "          [12803,  2048,  7965,  ..., 15598, 14296, 10942],\n",
       "          [12803,  2048,  7965,  ...,  4693,  4676, 11263]],\n",
       " \n",
       "         [[12803, 14861,  7965,  ...,  6676,  9727,   555],\n",
       "          [12803, 14861,  7965,  ...,  6676,  4856, 15698],\n",
       "          [12803, 14861,  7965,  ...,  8980, 10748,  7907],\n",
       "          ...,\n",
       "          [12803,  2048,  7965,  ...,  3312, 14097,  5315],\n",
       "          [12803,  2048,  7965,  ...,  7269,  4915, 14339],\n",
       "          [12803,  2048,  7965,  ...,  3158, 12242,  5798]]], device='cuda:0'),\n",
       " tensor([[[66.7520, 44.4030, 32.3255,  ...,  3.7746,  3.7520,  3.7453],\n",
       "          [52.7109, 36.0704, 25.6845,  ...,  3.5242,  3.5119,  3.4683],\n",
       "          [47.9079, 31.3747, 21.5809,  ...,  2.7037,  2.6917,  2.6278],\n",
       "          ...,\n",
       "          [45.6768, 23.7152, 18.4218,  ...,  2.0246,  2.0215,  1.9906],\n",
       "          [44.1051, 22.6479, 16.2084,  ...,  1.9458,  1.8821,  1.8699],\n",
       "          [47.8738, 24.3336, 17.0768,  ...,  1.7125,  1.7121,  1.6918]],\n",
       " \n",
       "         [[65.3258, 35.6554, 21.8245,  ...,  3.2258,  3.1525,  2.9687],\n",
       "          [54.3441, 29.9857, 20.1487,  ...,  2.1497,  2.1488,  2.1293],\n",
       "          [45.7789, 31.6826, 23.6492,  ...,  2.2262,  2.2035,  2.1875],\n",
       "          ...,\n",
       "          [46.5514, 24.6599, 18.4073,  ...,  2.8575,  2.8127,  2.7980],\n",
       "          [48.1066, 25.5583, 18.8202,  ...,  1.8408,  1.8254,  1.8191],\n",
       "          [47.2607, 25.2495, 17.6916,  ...,  2.2221,  2.2032,  2.1679]],\n",
       " \n",
       "         [[73.3391, 40.1976, 23.9178,  ...,  4.1608,  4.0395,  3.7831],\n",
       "          [56.8069, 29.8955, 20.2944,  ...,  2.5793,  2.4376,  2.4091],\n",
       "          [50.9154, 29.3304, 19.5754,  ...,  1.6083,  1.5671,  1.5405],\n",
       "          ...,\n",
       "          [51.4747, 22.8973, 17.9741,  ...,  1.4789,  1.4709,  1.4488],\n",
       "          [48.8065, 23.6297, 15.1633,  ...,  1.5934,  1.4570,  1.4138],\n",
       "          [48.1754, 22.9050, 19.8821,  ...,  2.1535,  1.8087,  1.6934]],\n",
       " \n",
       "         ...,\n",
       " \n",
       "         [[66.0647, 41.4168, 29.6485,  ...,  4.0542,  4.0455,  4.0084],\n",
       "          [49.7806, 30.7612, 23.8995,  ...,  2.3655,  2.2357,  2.0394],\n",
       "          [41.3399, 29.2837, 22.4122,  ...,  2.7369,  2.4944,  2.4285],\n",
       "          ...,\n",
       "          [44.8924, 24.2650, 16.5098,  ...,  2.2037,  2.1594,  2.1029],\n",
       "          [46.4238, 22.3359, 13.8446,  ...,  1.9122,  1.9114,  1.9094],\n",
       "          [48.1106, 24.0509, 13.3704,  ...,  2.6873,  2.6585,  2.4845]],\n",
       " \n",
       "         [[71.7140, 39.2487, 23.9526,  ...,  3.4009,  3.2694,  3.1851],\n",
       "          [55.6594, 30.2506, 19.8756,  ...,  2.3535,  2.3173,  2.2500],\n",
       "          [52.9864, 28.4926, 16.3292,  ...,  3.2667,  3.0439,  3.0427],\n",
       "          ...,\n",
       "          [47.8657, 23.6498, 16.6610,  ...,  2.1943,  2.1260,  2.1049],\n",
       "          [46.5544, 23.1504, 14.6234,  ...,  2.0981,  2.0929,  2.0926],\n",
       "          [45.6141, 24.3237, 18.5373,  ...,  2.0410,  1.8742,  1.7850]],\n",
       " \n",
       "         [[67.0691, 39.7243, 29.8530,  ...,  3.8249,  3.7054,  3.6202],\n",
       "          [45.3899, 28.3245, 21.2601,  ...,  3.6440,  3.4614,  3.3397],\n",
       "          [47.2537, 29.4444, 24.3405,  ...,  2.2152,  2.2147,  2.1691],\n",
       "          ...,\n",
       "          [44.3259, 24.8345, 14.5784,  ...,  3.2372,  3.2075,  2.9128],\n",
       "          [42.5567, 23.8004, 14.5379,  ...,  2.3463,  2.3310,  2.2909],\n",
       "          [43.4373, 25.3453, 17.6423,  ...,  2.5659,  2.5648,  2.5375]]],\n",
       "        device='cuda:0', grad_fn=<TopkBackward0>))"
      ]
     },
     "execution_count": 6,
     "metadata": {},
     "output_type": "execute_result"
    }
   ],
   "source": [
    "def get_batch(split):\n",
    "    data = train_data if split == 'train' else val_data\n",
    "    ix = torch.randint(0, data.size(0) - T, (B,)) # 4 random locations we can sample from\n",
    "    x = torch.stack([data[i:i+T] for i in ix]) # random sequences\n",
    "    y = torch.stack([data[i+1:i+T+1] for i in ix]) # next character for each random sequence\n",
    "\n",
    "    return x, y\n",
    "\n",
    "xb, yb = get_batch('train')\n",
    "\n",
    "# for b in range(B):\n",
    "#     for t in range(T): # for each of the characters in the sample\n",
    "#         context = xb[b, :t+1]\n",
    "#         target = yb[b, t]\n",
    "\n",
    "get_latents(xb)\n"
   ]
  },
  {
   "cell_type": "code",
   "execution_count": 8,
   "metadata": {},
   "outputs": [
    {
     "name": "stderr",
     "output_type": "stream",
     "text": [
      "encoding validation data:   1%|          | 15/1428 [00:00<01:08, 20.57it/s]"
     ]
    },
    {
     "name": "stdout",
     "output_type": "stream",
     "text": [
      "r2 tensor(0.8955, device='cuda:0')\n"
     ]
    },
    {
     "name": "stderr",
     "output_type": "stream",
     "text": [
      "encoding validation data:   1%|▏         | 21/1428 [00:01<01:07, 20.78it/s]"
     ]
    },
    {
     "name": "stdout",
     "output_type": "stream",
     "text": [
      "r2 tensor(0.8966, device='cuda:0')\n",
      "r2 tensor(0.8902, device='cuda:0')\n"
     ]
    },
    {
     "name": "stderr",
     "output_type": "stream",
     "text": [
      "encoding validation data:   3%|▎         | 42/1428 [00:02<01:07, 20.43it/s]"
     ]
    },
    {
     "name": "stdout",
     "output_type": "stream",
     "text": [
      "r2 tensor(0.8881, device='cuda:0')\n"
     ]
    },
    {
     "name": "stderr",
     "output_type": "stream",
     "text": [
      "encoding validation data:   4%|▍         | 60/1428 [00:02<01:06, 20.70it/s]"
     ]
    },
    {
     "name": "stdout",
     "output_type": "stream",
     "text": [
      "r2 tensor(0.8943, device='cuda:0')\n"
     ]
    },
    {
     "name": "stderr",
     "output_type": "stream",
     "text": [
      "encoding validation data:   5%|▍         | 66/1428 [00:03<01:05, 20.83it/s]"
     ]
    },
    {
     "name": "stdout",
     "output_type": "stream",
     "text": [
      "r2 tensor(0.8887, device='cuda:0')\n"
     ]
    },
    {
     "name": "stderr",
     "output_type": "stream",
     "text": [
      "encoding validation data:   5%|▌         | 72/1428 [00:03<01:05, 20.59it/s]"
     ]
    },
    {
     "name": "stdout",
     "output_type": "stream",
     "text": [
      "r2 tensor(0.8945, device='cuda:0')\n"
     ]
    },
    {
     "name": "stderr",
     "output_type": "stream",
     "text": [
      "encoding validation data:   6%|▌         | 81/1428 [00:03<01:08, 19.62it/s]"
     ]
    },
    {
     "name": "stdout",
     "output_type": "stream",
     "text": [
      "r2 tensor(0.8891, device='cuda:0')\n",
      "r2 tensor(0.8925, device='cuda:0')\n"
     ]
    },
    {
     "name": "stderr",
     "output_type": "stream",
     "text": [
      "encoding validation data:   6%|▌         | 87/1428 [00:04<01:04, 20.76it/s]"
     ]
    },
    {
     "name": "stdout",
     "output_type": "stream",
     "text": [
      "r2 tensor(0.8974, device='cuda:0')\n"
     ]
    },
    {
     "name": "stderr",
     "output_type": "stream",
     "text": [
      "encoding validation data:   7%|▋         | 96/1428 [00:04<01:04, 20.51it/s]"
     ]
    },
    {
     "name": "stdout",
     "output_type": "stream",
     "text": [
      "r2 tensor(0.8878, device='cuda:0')\n"
     ]
    },
    {
     "name": "stderr",
     "output_type": "stream",
     "text": [
      "encoding validation data:   7%|▋         | 105/1428 [00:05<01:04, 20.42it/s]"
     ]
    },
    {
     "name": "stdout",
     "output_type": "stream",
     "text": [
      "r2 tensor(0.8894, device='cuda:0')\n"
     ]
    },
    {
     "name": "stderr",
     "output_type": "stream",
     "text": [
      "encoding validation data:   8%|▊         | 111/1428 [00:05<01:03, 20.70it/s]"
     ]
    },
    {
     "name": "stdout",
     "output_type": "stream",
     "text": [
      "r2 tensor(0.8887, device='cuda:0')\n"
     ]
    },
    {
     "name": "stderr",
     "output_type": "stream",
     "text": [
      "encoding validation data:   9%|▉         | 132/1428 [00:06<01:03, 20.42it/s]"
     ]
    },
    {
     "name": "stdout",
     "output_type": "stream",
     "text": [
      "r2 tensor(0.8879, device='cuda:0')\n"
     ]
    },
    {
     "name": "stderr",
     "output_type": "stream",
     "text": [
      "encoding validation data:  11%|█         | 150/1428 [00:07<01:02, 20.40it/s]"
     ]
    },
    {
     "name": "stdout",
     "output_type": "stream",
     "text": [
      "r2 tensor(0.8873, device='cuda:0')\n"
     ]
    },
    {
     "name": "stderr",
     "output_type": "stream",
     "text": [
      "encoding validation data:  11%|█         | 159/1428 [00:07<01:02, 20.39it/s]"
     ]
    },
    {
     "name": "stdout",
     "output_type": "stream",
     "text": [
      "r2 tensor(0.8900, device='cuda:0')\n",
      "r2 tensor(0.9000, device='cuda:0')\n"
     ]
    },
    {
     "name": "stderr",
     "output_type": "stream",
     "text": [
      "encoding validation data:  12%|█▏        | 174/1428 [00:08<01:01, 20.37it/s]"
     ]
    },
    {
     "name": "stdout",
     "output_type": "stream",
     "text": [
      "r2 tensor(0.8870, device='cuda:0')\n"
     ]
    },
    {
     "name": "stderr",
     "output_type": "stream",
     "text": [
      "encoding validation data:  13%|█▎        | 183/1428 [00:08<01:01, 20.37it/s]"
     ]
    },
    {
     "name": "stdout",
     "output_type": "stream",
     "text": [
      "r2 tensor(0.8874, device='cuda:0')\n",
      "r2 "
     ]
    },
    {
     "name": "stderr",
     "output_type": "stream",
     "text": [
      "encoding validation data:  13%|█▎        | 189/1428 [00:09<00:59, 20.67it/s]"
     ]
    },
    {
     "name": "stdout",
     "output_type": "stream",
     "text": [
      "tensor(0.8904, device='cuda:0')\n"
     ]
    },
    {
     "name": "stderr",
     "output_type": "stream",
     "text": [
      "encoding validation data:  15%|█▌        | 219/1428 [00:10<00:59, 20.39it/s]"
     ]
    },
    {
     "name": "stdout",
     "output_type": "stream",
     "text": [
      "r2 tensor(0.8905, device='cuda:0')\n"
     ]
    },
    {
     "name": "stderr",
     "output_type": "stream",
     "text": [
      "encoding validation data:  16%|█▌        | 225/1428 [00:11<00:58, 20.64it/s]"
     ]
    },
    {
     "name": "stdout",
     "output_type": "stream",
     "text": [
      "r2 tensor(0.8877, device='cuda:0')\n",
      "r2 tensor(0.8897, device='cuda:0')\n",
      "r2 tensor(0.8986, device='cuda:0')\n"
     ]
    },
    {
     "name": "stderr",
     "output_type": "stream",
     "text": [
      "encoding validation data:  17%|█▋        | 243/1428 [00:11<00:58, 20.42it/s]"
     ]
    },
    {
     "name": "stdout",
     "output_type": "stream",
     "text": [
      "r2 tensor(0.8915, device='cuda:0')\n"
     ]
    },
    {
     "name": "stderr",
     "output_type": "stream",
     "text": [
      "encoding validation data:  18%|█▊        | 252/1428 [00:12<00:57, 20.39it/s]"
     ]
    },
    {
     "name": "stdout",
     "output_type": "stream",
     "text": [
      "r2 tensor(0.8958, device='cuda:0')\n"
     ]
    },
    {
     "name": "stderr",
     "output_type": "stream",
     "text": [
      "encoding validation data:  19%|█▉        | 276/1428 [00:13<00:56, 20.39it/s]"
     ]
    },
    {
     "name": "stdout",
     "output_type": "stream",
     "text": [
      "r2 tensor(0.8872, device='cuda:0')\n",
      "r2 tensor(0.8916, device='cuda:0')\n"
     ]
    },
    {
     "name": "stderr",
     "output_type": "stream",
     "text": [
      "encoding validation data:  20%|██        | 291/1428 [00:14<00:55, 20.38it/s]"
     ]
    },
    {
     "name": "stdout",
     "output_type": "stream",
     "text": [
      "r2 tensor(0.8863, device='cuda:0')\n"
     ]
    },
    {
     "name": "stderr",
     "output_type": "stream",
     "text": [
      "encoding validation data:  21%|██        | 297/1428 [00:14<00:55, 20.37it/s]"
     ]
    },
    {
     "name": "stdout",
     "output_type": "stream",
     "text": [
      "r2 tensor(0.8890, device='cuda:0')\n"
     ]
    },
    {
     "name": "stderr",
     "output_type": "stream",
     "text": [
      "encoding validation data:  21%|██▏       | 306/1428 [00:15<00:54, 20.68it/s]"
     ]
    },
    {
     "name": "stdout",
     "output_type": "stream",
     "text": [
      "r2 tensor(0.8910, device='cuda:0')\n"
     ]
    },
    {
     "name": "stderr",
     "output_type": "stream",
     "text": [
      "encoding validation data:  22%|██▏       | 312/1428 [00:15<00:53, 20.80it/s]"
     ]
    },
    {
     "name": "stdout",
     "output_type": "stream",
     "text": [
      "r2 tensor(0.8908, device='cuda:0')\n",
      "r2 tensor(0.8885, device='cuda:0')\n",
      "r2 "
     ]
    },
    {
     "name": "stderr",
     "output_type": "stream",
     "text": [
      "encoding validation data:  22%|██▏       | 315/1428 [00:15<00:53, 20.64it/s]"
     ]
    },
    {
     "name": "stdout",
     "output_type": "stream",
     "text": [
      "tensor(0.8944, device='cuda:0')\n",
      "r2 tensor(0.8880, device='cuda:0')\n"
     ]
    },
    {
     "name": "stderr",
     "output_type": "stream",
     "text": [
      "encoding validation data:  23%|██▎       | 327/1428 [00:16<00:53, 20.43it/s]"
     ]
    },
    {
     "name": "stdout",
     "output_type": "stream",
     "text": [
      "r2 tensor(0.8961, device='cuda:0')\n",
      "r2 tensor(0.8903, device='cuda:0')\n"
     ]
    },
    {
     "name": "stderr",
     "output_type": "stream",
     "text": [
      "encoding validation data:  24%|██▎       | 336/1428 [00:16<00:52, 20.67it/s]"
     ]
    },
    {
     "name": "stdout",
     "output_type": "stream",
     "text": [
      "r2 tensor(0.8948, device='cuda:0')\n"
     ]
    },
    {
     "name": "stderr",
     "output_type": "stream",
     "text": [
      "encoding validation data:  24%|██▍       | 342/1428 [00:16<00:52, 20.82it/s]"
     ]
    },
    {
     "name": "stdout",
     "output_type": "stream",
     "text": [
      "r2 tensor(0.8952, device='cuda:0')\n"
     ]
    },
    {
     "name": "stderr",
     "output_type": "stream",
     "text": [
      "encoding validation data:  25%|██▍       | 351/1428 [00:17<00:52, 20.51it/s]"
     ]
    },
    {
     "name": "stdout",
     "output_type": "stream",
     "text": [
      "r2 tensor(0.8866, device='cuda:0')\n"
     ]
    },
    {
     "name": "stderr",
     "output_type": "stream",
     "text": [
      "encoding validation data:  25%|██▌       | 357/1428 [00:17<00:51, 20.75it/s]"
     ]
    },
    {
     "name": "stdout",
     "output_type": "stream",
     "text": [
      "r2 tensor(0.8938, device='cuda:0')\n"
     ]
    },
    {
     "name": "stderr",
     "output_type": "stream",
     "text": [
      "encoding validation data:  27%|██▋       | 384/1428 [00:18<00:51, 20.39it/s]"
     ]
    },
    {
     "name": "stdout",
     "output_type": "stream",
     "text": [
      "r2 tensor(0.8979, device='cuda:0')\n",
      "r2 tensor(0.8917, device='cuda:0')\n"
     ]
    },
    {
     "name": "stderr",
     "output_type": "stream",
     "text": [
      "encoding validation data:  28%|██▊       | 405/1428 [00:19<00:50, 20.36it/s]"
     ]
    },
    {
     "name": "stdout",
     "output_type": "stream",
     "text": [
      "r2 tensor(0.8908, device='cuda:0')\n"
     ]
    },
    {
     "name": "stderr",
     "output_type": "stream",
     "text": [
      "encoding validation data:  29%|██▉       | 411/1428 [00:20<00:49, 20.67it/s]"
     ]
    },
    {
     "name": "stdout",
     "output_type": "stream",
     "text": [
      "r2 tensor(0.8915, device='cuda:0')\n",
      "r2 "
     ]
    },
    {
     "name": "stderr",
     "output_type": "stream",
     "text": [
      "encoding validation data:  29%|██▉       | 414/1428 [00:20<00:49, 20.55it/s]"
     ]
    },
    {
     "name": "stdout",
     "output_type": "stream",
     "text": [
      "tensor(0.8987, device='cuda:0')\n"
     ]
    },
    {
     "name": "stderr",
     "output_type": "stream",
     "text": [
      "encoding validation data:  30%|███       | 429/1428 [00:21<00:48, 20.69it/s]"
     ]
    },
    {
     "name": "stdout",
     "output_type": "stream",
     "text": [
      "r2 tensor(0.8881, device='cuda:0')\n"
     ]
    },
    {
     "name": "stderr",
     "output_type": "stream",
     "text": [
      "encoding validation data:  30%|███       | 435/1428 [00:21<00:47, 20.82it/s]"
     ]
    },
    {
     "name": "stdout",
     "output_type": "stream",
     "text": [
      "r2 tensor(0.8913, device='cuda:0')\n"
     ]
    },
    {
     "name": "stderr",
     "output_type": "stream",
     "text": [
      "encoding validation data:  32%|███▏      | 450/1428 [00:22<00:47, 20.44it/s]"
     ]
    },
    {
     "name": "stdout",
     "output_type": "stream",
     "text": [
      "r2 tensor(0.8902, device='cuda:0')\n"
     ]
    },
    {
     "name": "stderr",
     "output_type": "stream",
     "text": [
      "encoding validation data:  33%|███▎      | 468/1428 [00:22<00:46, 20.67it/s]"
     ]
    },
    {
     "name": "stdout",
     "output_type": "stream",
     "text": [
      "r2 tensor(0.8954, device='cuda:0')\n"
     ]
    },
    {
     "name": "stderr",
     "output_type": "stream",
     "text": [
      "encoding validation data:  33%|███▎      | 474/1428 [00:23<00:49, 19.39it/s]"
     ]
    },
    {
     "name": "stdout",
     "output_type": "stream",
     "text": [
      "r2 tensor(0.8887, device='cuda:0')\n",
      "r2 tensor(0.8921, device='cuda:0')\n",
      "r2 "
     ]
    },
    {
     "name": "stderr",
     "output_type": "stream",
     "text": [
      "encoding validation data:  34%|███▎      | 480/1428 [00:23<00:48, 19.74it/s]"
     ]
    },
    {
     "name": "stdout",
     "output_type": "stream",
     "text": [
      "tensor(0.8903, device='cuda:0')\n",
      "r2 tensor(0.8947, device='cuda:0')\n",
      "r2 tensor(0.8890, device='cuda:0')\n"
     ]
    },
    {
     "name": "stderr",
     "output_type": "stream",
     "text": [
      "encoding validation data:  34%|███▍      | 489/1428 [00:24<00:45, 20.65it/s]"
     ]
    },
    {
     "name": "stdout",
     "output_type": "stream",
     "text": [
      "r2 tensor(0.8948, device='cuda:0')\n"
     ]
    },
    {
     "name": "stderr",
     "output_type": "stream",
     "text": [
      "encoding validation data:  35%|███▍      | 495/1428 [00:24<00:45, 20.50it/s]"
     ]
    },
    {
     "name": "stdout",
     "output_type": "stream",
     "text": [
      "r2 tensor(0.8893, device='cuda:0')\n"
     ]
    },
    {
     "name": "stderr",
     "output_type": "stream",
     "text": [
      "encoding validation data:  35%|███▌      | 504/1428 [00:24<00:44, 20.71it/s]"
     ]
    },
    {
     "name": "stdout",
     "output_type": "stream",
     "text": [
      "r2 tensor(0.8922, device='cuda:0')\n"
     ]
    },
    {
     "name": "stderr",
     "output_type": "stream",
     "text": [
      "encoding validation data:  37%|███▋      | 528/1428 [00:25<00:43, 20.70it/s]"
     ]
    },
    {
     "name": "stdout",
     "output_type": "stream",
     "text": [
      "r2 tensor(0.8917, device='cuda:0')\n"
     ]
    },
    {
     "name": "stderr",
     "output_type": "stream",
     "text": [
      "encoding validation data:  37%|███▋      | 534/1428 [00:26<00:43, 20.53it/s]"
     ]
    },
    {
     "name": "stdout",
     "output_type": "stream",
     "text": [
      "r2 tensor(0.8900, device='cuda:0')\n"
     ]
    },
    {
     "name": "stderr",
     "output_type": "stream",
     "text": [
      "encoding validation data:  38%|███▊      | 543/1428 [00:26<00:45, 19.59it/s]"
     ]
    },
    {
     "name": "stdout",
     "output_type": "stream",
     "text": [
      "r2 tensor(0.8864, device='cuda:0')\n",
      "r2 tensor(0.8890, device='cuda:0')\n"
     ]
    },
    {
     "name": "stderr",
     "output_type": "stream",
     "text": [
      "encoding validation data:  39%|███▉      | 558/1428 [00:27<00:42, 20.49it/s]"
     ]
    },
    {
     "name": "stdout",
     "output_type": "stream",
     "text": [
      "r2 tensor(0.8873, device='cuda:0')\n",
      "r2 tensor(0.8963, device='cuda:0')\n",
      "r2 "
     ]
    },
    {
     "name": "stderr",
     "output_type": "stream",
     "text": [
      "encoding validation data:  39%|███▉      | 564/1428 [00:27<00:42, 20.41it/s]"
     ]
    },
    {
     "name": "stdout",
     "output_type": "stream",
     "text": [
      "tensor(0.8947, device='cuda:0')\n"
     ]
    },
    {
     "name": "stderr",
     "output_type": "stream",
     "text": [
      "encoding validation data:  41%|████      | 579/1428 [00:28<00:41, 20.38it/s]"
     ]
    },
    {
     "name": "stdout",
     "output_type": "stream",
     "text": [
      "r2 tensor(0.8880, device='cuda:0')\n"
     ]
    },
    {
     "name": "stderr",
     "output_type": "stream",
     "text": [
      "encoding validation data:  41%|████▏     | 591/1428 [00:29<00:41, 20.36it/s]"
     ]
    },
    {
     "name": "stdout",
     "output_type": "stream",
     "text": [
      "r2 tensor(0.8957, device='cuda:0')\n",
      "r2 tensor(0.8924, device='cuda:0')\n"
     ]
    },
    {
     "name": "stderr",
     "output_type": "stream",
     "text": [
      "encoding validation data:  42%|████▏     | 600/1428 [00:29<00:40, 20.35it/s]"
     ]
    },
    {
     "name": "stdout",
     "output_type": "stream",
     "text": [
      "r2 tensor(0.8910, device='cuda:0')\n"
     ]
    },
    {
     "name": "stderr",
     "output_type": "stream",
     "text": [
      "encoding validation data:  44%|████▎     | 624/1428 [00:30<00:38, 20.68it/s]"
     ]
    },
    {
     "name": "stdout",
     "output_type": "stream",
     "text": [
      "r2 tensor(0.8924, device='cuda:0')\n"
     ]
    },
    {
     "name": "stderr",
     "output_type": "stream",
     "text": [
      "encoding validation data:  47%|████▋     | 669/1428 [00:32<00:37, 20.35it/s]"
     ]
    },
    {
     "name": "stdout",
     "output_type": "stream",
     "text": [
      "r2 tensor(0.8927, device='cuda:0')\n"
     ]
    },
    {
     "name": "stderr",
     "output_type": "stream",
     "text": [
      "encoding validation data:  48%|████▊     | 684/1428 [00:33<00:36, 20.37it/s]"
     ]
    },
    {
     "name": "stdout",
     "output_type": "stream",
     "text": [
      "r2 tensor(0.8986, device='cuda:0')\n"
     ]
    },
    {
     "name": "stderr",
     "output_type": "stream",
     "text": [
      "encoding validation data:  48%|████▊     | 690/1428 [00:33<00:36, 20.37it/s]"
     ]
    },
    {
     "name": "stdout",
     "output_type": "stream",
     "text": [
      "r2 tensor(0.8880, device='cuda:0')\n",
      "r2 tensor(0.8918, device='cuda:0')\n"
     ]
    },
    {
     "name": "stderr",
     "output_type": "stream",
     "text": [
      "encoding validation data:  50%|████▉     | 708/1428 [00:34<00:35, 20.37it/s]"
     ]
    },
    {
     "name": "stdout",
     "output_type": "stream",
     "text": [
      "r2 tensor(0.8944, device='cuda:0')\n"
     ]
    },
    {
     "name": "stderr",
     "output_type": "stream",
     "text": [
      "encoding validation data:  50%|█████     | 720/1428 [00:35<00:34, 20.36it/s]"
     ]
    },
    {
     "name": "stdout",
     "output_type": "stream",
     "text": [
      "r2 tensor(0.8905, device='cuda:0')\n"
     ]
    },
    {
     "name": "stderr",
     "output_type": "stream",
     "text": [
      "encoding validation data:  51%|█████▏    | 735/1428 [00:36<00:34, 20.37it/s]"
     ]
    },
    {
     "name": "stdout",
     "output_type": "stream",
     "text": [
      "r2 tensor(0.8966, device='cuda:0')\n"
     ]
    },
    {
     "name": "stderr",
     "output_type": "stream",
     "text": [
      "encoding validation data:  52%|█████▏    | 741/1428 [00:36<00:33, 20.36it/s]"
     ]
    },
    {
     "name": "stdout",
     "output_type": "stream",
     "text": [
      "r2 tensor(0.8921, device='cuda:0')\n"
     ]
    },
    {
     "name": "stderr",
     "output_type": "stream",
     "text": [
      "encoding validation data:  53%|█████▎    | 759/1428 [00:37<00:32, 20.37it/s]"
     ]
    },
    {
     "name": "stdout",
     "output_type": "stream",
     "text": [
      "r2 tensor(0.8900, device='cuda:0')\n"
     ]
    },
    {
     "name": "stderr",
     "output_type": "stream",
     "text": [
      "encoding validation data:  54%|█████▎    | 765/1428 [00:37<00:32, 20.67it/s]"
     ]
    },
    {
     "name": "stdout",
     "output_type": "stream",
     "text": [
      "r2 tensor(0.8933, device='cuda:0')\n"
     ]
    },
    {
     "name": "stderr",
     "output_type": "stream",
     "text": [
      "encoding validation data:  54%|█████▍    | 771/1428 [00:37<00:32, 20.50it/s]"
     ]
    },
    {
     "name": "stdout",
     "output_type": "stream",
     "text": [
      "r2 tensor(0.8956, device='cuda:0')\n"
     ]
    },
    {
     "name": "stderr",
     "output_type": "stream",
     "text": [
      "encoding validation data:  55%|█████▌    | 786/1428 [00:38<00:31, 20.68it/s]"
     ]
    },
    {
     "name": "stdout",
     "output_type": "stream",
     "text": [
      "r2 tensor(0.8910, device='cuda:0')\n",
      "r2 tensor(0.8906, device='cuda:0')\n"
     ]
    },
    {
     "name": "stderr",
     "output_type": "stream",
     "text": [
      "encoding validation data:  56%|█████▌    | 795/1428 [00:39<00:30, 20.76it/s]"
     ]
    },
    {
     "name": "stdout",
     "output_type": "stream",
     "text": [
      "r2 tensor(0.8918, device='cuda:0')\n",
      "r2 tensor(0.8910, device='cuda:0')\n"
     ]
    },
    {
     "name": "stderr",
     "output_type": "stream",
     "text": [
      "encoding validation data:  56%|█████▋    | 804/1428 [00:39<00:30, 20.50it/s]"
     ]
    },
    {
     "name": "stdout",
     "output_type": "stream",
     "text": [
      "r2 tensor(0.8920, device='cuda:0')\n"
     ]
    },
    {
     "name": "stderr",
     "output_type": "stream",
     "text": [
      "encoding validation data:  57%|█████▋    | 813/1428 [00:39<00:29, 20.69it/s]"
     ]
    },
    {
     "name": "stdout",
     "output_type": "stream",
     "text": [
      "r2 tensor(0.8951, device='cuda:0')\n",
      "r2 tensor(0.8893, device='cuda:0')\n"
     ]
    },
    {
     "name": "stderr",
     "output_type": "stream",
     "text": [
      "encoding validation data:  58%|█████▊    | 822/1428 [00:40<00:29, 20.77it/s]"
     ]
    },
    {
     "name": "stdout",
     "output_type": "stream",
     "text": [
      "r2 tensor(0.8990, device='cuda:0')\n"
     ]
    },
    {
     "name": "stderr",
     "output_type": "stream",
     "text": [
      "encoding validation data:  58%|█████▊    | 828/1428 [00:40<00:29, 20.51it/s]"
     ]
    },
    {
     "name": "stdout",
     "output_type": "stream",
     "text": [
      "r2 tensor(0.8983, device='cuda:0')\n"
     ]
    },
    {
     "name": "stderr",
     "output_type": "stream",
     "text": [
      "encoding validation data:  59%|█████▉    | 840/1428 [00:41<00:28, 20.67it/s]"
     ]
    },
    {
     "name": "stdout",
     "output_type": "stream",
     "text": [
      "r2 tensor(0.8876, device='cuda:0')\n",
      "r2 tensor(0.8899, device='cuda:0')\n"
     ]
    },
    {
     "name": "stderr",
     "output_type": "stream",
     "text": [
      "encoding validation data:  60%|██████    | 861/1428 [00:42<00:29, 19.26it/s]"
     ]
    },
    {
     "name": "stdout",
     "output_type": "stream",
     "text": [
      "r2 tensor(0.8898, device='cuda:0')\n",
      "r2 tensor(0.8969, device='cuda:0')\n"
     ]
    },
    {
     "name": "stderr",
     "output_type": "stream",
     "text": [
      "encoding validation data:  62%|██████▏   | 879/1428 [00:43<00:26, 20.70it/s]"
     ]
    },
    {
     "name": "stdout",
     "output_type": "stream",
     "text": [
      "r2 tensor(0.8934, device='cuda:0')\n"
     ]
    },
    {
     "name": "stderr",
     "output_type": "stream",
     "text": [
      "encoding validation data:  63%|██████▎   | 900/1428 [00:44<00:25, 20.36it/s]"
     ]
    },
    {
     "name": "stdout",
     "output_type": "stream",
     "text": [
      "r2 tensor(0.8924, device='cuda:0')\n",
      "r2 "
     ]
    },
    {
     "name": "stderr",
     "output_type": "stream",
     "text": [
      "encoding validation data:  63%|██████▎   | 906/1428 [00:44<00:25, 20.32it/s]"
     ]
    },
    {
     "name": "stdout",
     "output_type": "stream",
     "text": [
      "tensor(0.8883, device='cuda:0')\n",
      "r2 tensor(0.8954, device='cuda:0')\n"
     ]
    },
    {
     "name": "stderr",
     "output_type": "stream",
     "text": [
      "encoding validation data:  64%|██████▎   | 909/1428 [00:44<00:27, 19.19it/s]"
     ]
    },
    {
     "name": "stdout",
     "output_type": "stream",
     "text": [
      "r2 tensor(0.8900, device='cuda:0')\n",
      "r2 tensor(0.8905, device='cuda:0')\n"
     ]
    },
    {
     "name": "stderr",
     "output_type": "stream",
     "text": [
      "encoding validation data:  64%|██████▍   | 918/1428 [00:45<00:24, 20.46it/s]"
     ]
    },
    {
     "name": "stdout",
     "output_type": "stream",
     "text": [
      "r2 tensor(0.8922, device='cuda:0')\n"
     ]
    },
    {
     "name": "stderr",
     "output_type": "stream",
     "text": [
      "encoding validation data:  64%|██████▍   | 921/1428 [00:45<00:24, 20.41it/s]"
     ]
    },
    {
     "name": "stdout",
     "output_type": "stream",
     "text": [
      "r2 tensor(0.8992, device='cuda:0')\n"
     ]
    },
    {
     "name": "stderr",
     "output_type": "stream",
     "text": [
      "encoding validation data:  65%|██████▍   | 927/1428 [00:45<00:25, 19.28it/s]"
     ]
    },
    {
     "name": "stdout",
     "output_type": "stream",
     "text": [
      "r2 tensor(0.8916, device='cuda:0')\n",
      "r2 tensor(0.8983, device='cuda:0')\n"
     ]
    },
    {
     "name": "stderr",
     "output_type": "stream",
     "text": [
      "encoding validation data:  68%|██████▊   | 969/1428 [00:47<00:22, 20.64it/s]"
     ]
    },
    {
     "name": "stdout",
     "output_type": "stream",
     "text": [
      "r2 tensor(0.8896, device='cuda:0')\n"
     ]
    },
    {
     "name": "stderr",
     "output_type": "stream",
     "text": [
      "encoding validation data:  68%|██████▊   | 975/1428 [00:47<00:22, 20.48it/s]"
     ]
    },
    {
     "name": "stdout",
     "output_type": "stream",
     "text": [
      "r2 tensor(0.8879, device='cuda:0')\n"
     ]
    },
    {
     "name": "stderr",
     "output_type": "stream",
     "text": [
      "encoding validation data:  69%|██████▉   | 987/1428 [00:48<00:21, 20.67it/s]"
     ]
    },
    {
     "name": "stdout",
     "output_type": "stream",
     "text": [
      "r2 tensor(0.8956, device='cuda:0')\n"
     ]
    },
    {
     "name": "stderr",
     "output_type": "stream",
     "text": [
      "encoding validation data:  70%|██████▉   | 993/1428 [00:48<00:21, 20.48it/s]"
     ]
    },
    {
     "name": "stdout",
     "output_type": "stream",
     "text": [
      "r2 tensor(0.8900, device='cuda:0')\n"
     ]
    },
    {
     "name": "stderr",
     "output_type": "stream",
     "text": [
      "encoding validation data:  70%|██████▉   | 996/1428 [00:48<00:21, 20.43it/s]"
     ]
    },
    {
     "name": "stdout",
     "output_type": "stream",
     "text": [
      "r2 tensor(0.8991, device='cuda:0')\n"
     ]
    },
    {
     "name": "stderr",
     "output_type": "stream",
     "text": [
      "encoding validation data:  72%|███████▏  | 1035/1428 [00:50<00:19, 20.34it/s]"
     ]
    },
    {
     "name": "stdout",
     "output_type": "stream",
     "text": [
      "r2 tensor(0.8907, device='cuda:0')\n"
     ]
    },
    {
     "name": "stderr",
     "output_type": "stream",
     "text": [
      "encoding validation data:  74%|███████▎  | 1050/1428 [00:51<00:18, 20.34it/s]"
     ]
    },
    {
     "name": "stdout",
     "output_type": "stream",
     "text": [
      "r2 tensor(0.8890, device='cuda:0')\n"
     ]
    },
    {
     "name": "stderr",
     "output_type": "stream",
     "text": [
      "encoding validation data:  75%|███████▍  | 1065/1428 [00:52<00:17, 20.59it/s]"
     ]
    },
    {
     "name": "stdout",
     "output_type": "stream",
     "text": [
      "r2 tensor(0.8882, device='cuda:0')\n"
     ]
    },
    {
     "name": "stderr",
     "output_type": "stream",
     "text": [
      "encoding validation data:  75%|███████▌  | 1077/1428 [00:52<00:17, 19.54it/s]"
     ]
    },
    {
     "name": "stdout",
     "output_type": "stream",
     "text": [
      "r2 tensor(0.8934, device='cuda:0')\n",
      "r2 tensor(0.8890, device='cuda:0')\n"
     ]
    },
    {
     "name": "stderr",
     "output_type": "stream",
     "text": [
      "encoding validation data:  76%|███████▌  | 1082/1428 [00:53<00:16, 21.04it/s]"
     ]
    },
    {
     "name": "stdout",
     "output_type": "stream",
     "text": [
      "r2 tensor(0.8919, device='cuda:0')\n"
     ]
    },
    {
     "name": "stderr",
     "output_type": "stream",
     "text": [
      "encoding validation data:  79%|███████▉  | 1127/1428 [00:55<00:14, 20.62it/s]"
     ]
    },
    {
     "name": "stdout",
     "output_type": "stream",
     "text": [
      "r2 tensor(0.8906, device='cuda:0')\n"
     ]
    },
    {
     "name": "stderr",
     "output_type": "stream",
     "text": [
      "encoding validation data:  80%|███████▉  | 1142/1428 [00:56<00:14, 20.37it/s]"
     ]
    },
    {
     "name": "stdout",
     "output_type": "stream",
     "text": [
      "r2 tensor(0.8942, device='cuda:0')\n",
      "r2 "
     ]
    },
    {
     "name": "stderr",
     "output_type": "stream",
     "text": [
      "encoding validation data:  80%|████████  | 1148/1428 [00:56<00:13, 20.59it/s]"
     ]
    },
    {
     "name": "stdout",
     "output_type": "stream",
     "text": [
      "tensor(0.8877, device='cuda:0')\n"
     ]
    },
    {
     "name": "stderr",
     "output_type": "stream",
     "text": [
      "encoding validation data:  81%|████████  | 1157/1428 [00:56<00:13, 20.38it/s]"
     ]
    },
    {
     "name": "stdout",
     "output_type": "stream",
     "text": [
      "r2 tensor(0.8912, device='cuda:0')\n"
     ]
    },
    {
     "name": "stderr",
     "output_type": "stream",
     "text": [
      "encoding validation data:  82%|████████▏ | 1166/1428 [00:57<00:12, 20.33it/s]"
     ]
    },
    {
     "name": "stdout",
     "output_type": "stream",
     "text": [
      "r2 tensor(0.8980, device='cuda:0')\n"
     ]
    },
    {
     "name": "stderr",
     "output_type": "stream",
     "text": [
      "encoding validation data:  82%|████████▏ | 1178/1428 [00:57<00:12, 20.28it/s]"
     ]
    },
    {
     "name": "stdout",
     "output_type": "stream",
     "text": [
      "r2 tensor(0.8927, device='cuda:0')\n",
      "r2 tensor(0.8929, device='cuda:0')\n"
     ]
    },
    {
     "name": "stderr",
     "output_type": "stream",
     "text": [
      "encoding validation data:  83%|████████▎ | 1184/1428 [00:58<00:12, 20.30it/s]"
     ]
    },
    {
     "name": "stdout",
     "output_type": "stream",
     "text": [
      "r2 tensor(0.8944, device='cuda:0')\n"
     ]
    },
    {
     "name": "stderr",
     "output_type": "stream",
     "text": [
      "encoding validation data:  85%|████████▍ | 1208/1428 [00:59<00:11, 19.50it/s]"
     ]
    },
    {
     "name": "stdout",
     "output_type": "stream",
     "text": [
      "r2 tensor(0.8980, device='cuda:0')\n",
      "r2 tensor(0.8889, device='cuda:0')\n"
     ]
    },
    {
     "name": "stderr",
     "output_type": "stream",
     "text": [
      "encoding validation data:  85%|████████▌ | 1217/1428 [00:59<00:10, 20.43it/s]"
     ]
    },
    {
     "name": "stdout",
     "output_type": "stream",
     "text": [
      "r2 tensor(0.8884, device='cuda:0')\n"
     ]
    },
    {
     "name": "stderr",
     "output_type": "stream",
     "text": [
      "encoding validation data:  86%|████████▌ | 1226/1428 [01:00<00:09, 20.34it/s]"
     ]
    },
    {
     "name": "stdout",
     "output_type": "stream",
     "text": [
      "r2 tensor(0.8911, device='cuda:0')\n"
     ]
    },
    {
     "name": "stderr",
     "output_type": "stream",
     "text": [
      "encoding validation data:  87%|████████▋ | 1238/1428 [01:00<00:09, 20.63it/s]"
     ]
    },
    {
     "name": "stdout",
     "output_type": "stream",
     "text": [
      "r2 tensor(0.8891, device='cuda:0')\n"
     ]
    },
    {
     "name": "stderr",
     "output_type": "stream",
     "text": [
      "encoding validation data:  87%|████████▋ | 1244/1428 [01:01<00:08, 20.75it/s]"
     ]
    },
    {
     "name": "stdout",
     "output_type": "stream",
     "text": [
      "r2 tensor(0.8903, device='cuda:0')\n"
     ]
    },
    {
     "name": "stderr",
     "output_type": "stream",
     "text": [
      "encoding validation data:  88%|████████▊ | 1253/1428 [01:01<00:08, 19.61it/s]"
     ]
    },
    {
     "name": "stdout",
     "output_type": "stream",
     "text": [
      "r2 tensor(0.8931, device='cuda:0')\n",
      "r2 tensor(0.8905, device='cuda:0')\n"
     ]
    },
    {
     "name": "stderr",
     "output_type": "stream",
     "text": [
      "encoding validation data:  89%|████████▉ | 1271/1428 [01:02<00:07, 20.74it/s]"
     ]
    },
    {
     "name": "stdout",
     "output_type": "stream",
     "text": [
      "r2 tensor(0.8879, device='cuda:0')\n"
     ]
    },
    {
     "name": "stderr",
     "output_type": "stream",
     "text": [
      "encoding validation data:  91%|█████████ | 1295/1428 [01:03<00:06, 20.35it/s]"
     ]
    },
    {
     "name": "stdout",
     "output_type": "stream",
     "text": [
      "r2 tensor(0.8874, device='cuda:0')\n"
     ]
    },
    {
     "name": "stderr",
     "output_type": "stream",
     "text": [
      "encoding validation data:  93%|█████████▎| 1328/1428 [01:05<00:04, 20.31it/s]"
     ]
    },
    {
     "name": "stdout",
     "output_type": "stream",
     "text": [
      "r2 tensor(0.8879, device='cuda:0')\n"
     ]
    },
    {
     "name": "stderr",
     "output_type": "stream",
     "text": [
      "encoding validation data:  93%|█████████▎| 1334/1428 [01:05<00:04, 20.30it/s]"
     ]
    },
    {
     "name": "stdout",
     "output_type": "stream",
     "text": [
      "r2 tensor(0.8910, device='cuda:0')\n"
     ]
    },
    {
     "name": "stderr",
     "output_type": "stream",
     "text": [
      "encoding validation data:  94%|█████████▍| 1340/1428 [01:05<00:04, 20.30it/s]"
     ]
    },
    {
     "name": "stdout",
     "output_type": "stream",
     "text": [
      "r2 tensor(0.8907, device='cuda:0')\n",
      "r2 tensor(0.8897, device='cuda:0')\n"
     ]
    },
    {
     "name": "stderr",
     "output_type": "stream",
     "text": [
      "encoding validation data:  94%|█████████▍| 1346/1428 [01:06<00:04, 19.21it/s]"
     ]
    },
    {
     "name": "stdout",
     "output_type": "stream",
     "text": [
      "r2 tensor(0.8853, device='cuda:0')\n",
      "r2 tensor(0.8941, device='cuda:0')\n"
     ]
    },
    {
     "name": "stderr",
     "output_type": "stream",
     "text": [
      "encoding validation data:  95%|█████████▍| 1352/1428 [01:06<00:03, 20.79it/s]"
     ]
    },
    {
     "name": "stdout",
     "output_type": "stream",
     "text": [
      "r2 tensor(0.8952, device='cuda:0')\n"
     ]
    },
    {
     "name": "stderr",
     "output_type": "stream",
     "text": [
      "encoding validation data:  95%|█████████▌| 1361/1428 [01:06<00:03, 20.48it/s]"
     ]
    },
    {
     "name": "stdout",
     "output_type": "stream",
     "text": [
      "r2 tensor(0.8917, device='cuda:0')\n"
     ]
    },
    {
     "name": "stderr",
     "output_type": "stream",
     "text": [
      "encoding validation data:  96%|█████████▌| 1364/1428 [01:07<00:03, 20.42it/s]"
     ]
    },
    {
     "name": "stdout",
     "output_type": "stream",
     "text": [
      "r2 tensor(0.8894, device='cuda:0')\n"
     ]
    },
    {
     "name": "stderr",
     "output_type": "stream",
     "text": [
      "encoding validation data:  97%|█████████▋| 1388/1428 [01:08<00:01, 20.31it/s]"
     ]
    },
    {
     "name": "stdout",
     "output_type": "stream",
     "text": [
      "r2 tensor(0.8897, device='cuda:0')\n"
     ]
    },
    {
     "name": "stderr",
     "output_type": "stream",
     "text": [
      "encoding validation data:  98%|█████████▊| 1400/1428 [01:08<00:01, 19.18it/s]"
     ]
    },
    {
     "name": "stdout",
     "output_type": "stream",
     "text": [
      "r2 tensor(0.8913, device='cuda:0')\n",
      "r2 tensor(0.8989, device='cuda:0')\n"
     ]
    },
    {
     "name": "stderr",
     "output_type": "stream",
     "text": [
      "encoding validation data: 100%|██████████| 1428/1428 [01:10<00:00, 20.32it/s]\n"
     ]
    },
    {
     "name": "stdout",
     "output_type": "stream",
     "text": [
      "r2 tensor(0.8869, device='cuda:0')\n"
     ]
    }
   ],
   "source": [
    "os.makedirs(f'{expt_dir}/encoded', exist_ok=True)\n",
    "\n",
    "def write_encoded_data():\n",
    "    with torch.no_grad():\n",
    "        validation_tokens = val_data.shape[0]\n",
    "        \n",
    "        tokens_per_batch = B*T\n",
    "        num_batches = validation_tokens // tokens_per_batch\n",
    "\n",
    "        accum_idxs = []\n",
    "        accum_values = []\n",
    "\n",
    "        for i in tqdm.tqdm(range(num_batches), desc=f'encoding validation data'):  \n",
    "            start = T*B * i\n",
    "            end = T*B * (i+1) \n",
    "\n",
    "            index = torch.arange(start, end, T)\n",
    "            x, y = get_batch_by_index('test', index)\n",
    "            sparse_idxs, sparse_values = get_latents(x)\n",
    "            accum_idxs.append(sparse_idxs)\n",
    "            accum_values.append(sparse_values)\n",
    "\n",
    "        cat_idxs = torch.cat(accum_idxs)\n",
    "        cat_values = torch.cat(accum_values)\n",
    "        torch.save(cat_idxs.view(-1, sae_topk), f'{expt_dir}/encoded/test_accum_idxs.pt')\n",
    "        torch.save(cat_values.view(-1, sae_topk), f'{expt_dir}/encoded/test_accum_values.pt')\n",
    "write_encoded_data()\n",
    "        "
   ]
  },
  {
   "cell_type": "code",
   "execution_count": null,
   "metadata": {},
   "outputs": [],
   "source": [
    "idxs = torch.load(f'{expt_name}/encoded/test_accum_idxs.pt')\n",
    "values = torch.load(f'{expt_name}/encoded/test_accum_values.pt')"
   ]
  },
  {
   "cell_type": "code",
   "execution_count": null,
   "metadata": {},
   "outputs": [
    {
     "name": "stdout",
     "output_type": "stream",
     "text": [
      "tensor(2733, dtype=torch.int16)\n",
      "tensor(16.8125, dtype=torch.float16)\n",
      "torch.Size([46792704, 20])\n"
     ]
    }
   ],
   "source": [
    "print (idxs[0][0])\n",
    "print (values[0][0])\n",
    "print(idxs.shape)"
   ]
  },
  {
   "cell_type": "code",
   "execution_count": null,
   "metadata": {},
   "outputs": [
    {
     "name": "stdout",
     "output_type": "stream",
     "text": [
      "(' small', ' had lots of green leaves. One day, a small seed fell from the tree and landed on the')\n"
     ]
    }
   ],
   "source": [
    "tokenizer = tokenizers.ByteLevelBPETokenizer(\n",
    "    \"./tiny-stories-bpe-vocab.json\", \n",
    "    \"./tiny-stories-bpe-merges.txt\"\n",
    ")\n",
    "def encode(text):\n",
    "    return tokenizer.encode(text).ids\n",
    "def decode(encoded_text):\n",
    "    return tokenizer.decode(encoded_text)\n",
    "\n",
    "def get_text_from_global_index(token_idx, context_size=10):\n",
    "    token = val_data[token_idx].item()\n",
    "    return decode([token]), decode(val_data[token_idx-context_size:token_idx+context_size].tolist())\n",
    "\n",
    "print(get_text_from_global_index(int(24 * 1e6)))\n"
   ]
  }
 ],
 "metadata": {
  "kernelspec": {
   "display_name": "Python 3",
   "language": "python",
   "name": "python3"
  },
  "language_info": {
   "codemirror_mode": {
    "name": "ipython",
    "version": 3
   },
   "file_extension": ".py",
   "mimetype": "text/x-python",
   "name": "python",
   "nbconvert_exporter": "python",
   "pygments_lexer": "ipython3",
   "version": "3.10.12"
  }
 },
 "nbformat": 4,
 "nbformat_minor": 2
}
